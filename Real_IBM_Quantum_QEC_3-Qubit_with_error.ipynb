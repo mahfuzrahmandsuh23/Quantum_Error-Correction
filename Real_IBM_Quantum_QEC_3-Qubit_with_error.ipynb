{
 "cells": [
  {
   "cell_type": "code",
   "execution_count": 71,
   "id": "25406adb",
   "metadata": {},
   "outputs": [
    {
     "name": "stderr",
     "output_type": "stream",
     "text": [
      "ibmqfactory.load_account:WARNING:2023-11-26 22:24:14,741: Credentials are already in use. The existing account in the session will be replaced.\n"
     ]
    }
   ],
   "source": [
    "# Load your IBM Q account\n",
    "from qiskit import IBMQ\n",
    "\n",
    "IBMQ.save_account('0c5b2835672517fb24d1ecd812570bac90ef6628b742d93906192c0a587d2ef0511a7e51bb9bc3c4530949c2ef46a084a88054a29e0a5ff2ad84c82fbad76cb7', overwrite=True)\n",
    "IBMQ.load_account()\n",
    "provider = IBMQ.get_provider(hub='ibm-q')\n",
    "realibmlagos_backend = provider.get_backend('ibm_perth')"
   ]
  },
  {
   "cell_type": "code",
   "execution_count": 69,
   "id": "6380923d",
   "metadata": {
    "scrolled": false
   },
   "outputs": [
    {
     "name": "stderr",
     "output_type": "stream",
     "text": [
      "ibmqfactory.load_account:WARNING:2023-11-26 22:23:37,282: Credentials are already in use. The existing account in the session will be replaced.\n"
     ]
    },
    {
     "name": "stdout",
     "output_type": "stream",
     "text": [
      "Least busy backend suitable for a 3-qubit system: ibm_perth\n"
     ]
    }
   ],
   "source": [
    "from qiskit import IBMQ\n",
    "from qiskit.providers.ibmq import least_busy\n",
    "\n",
    "# Load your IBM Q account\n",
    "IBMQ.load_account()\n",
    "\n",
    "# Get the provider for IBM Q\n",
    "provider = IBMQ.get_provider(hub='ibm-q')\n",
    "\n",
    "# Filter backends that are operational and have between 3 and 7 qubits\n",
    "backends = provider.backends(filters=lambda x: 3 <= x.configuration().n_qubits <= 7 \n",
    "                             and not x.configuration().simulator \n",
    "                             and x.status().operational==True)\n",
    "\n",
    "# Find the least busy backend among the filtered backends\n",
    "least_busy_backend = least_busy(backends)\n",
    "print(\"Least busy backend suitable for a 3-qubit system:\", least_busy_backend)\n"
   ]
  },
  {
   "cell_type": "markdown",
   "id": "f1f717ae",
   "metadata": {},
   "source": [
    "# Error Detection With Initial Syndrome Pairs"
   ]
  },
  {
   "cell_type": "code",
   "execution_count": 87,
   "id": "208ae6a8",
   "metadata": {},
   "outputs": [
    {
     "name": "stdout",
     "output_type": "stream",
     "text": [
      "Job Status: job has successfully run\n",
      "Error Detection Counts on Real Quantum Computer:\n",
      "{'00': 100, '11': 69, '10': 8, '01': 847}\n"
     ]
    }
   ],
   "source": [
    "from qiskit import QuantumCircuit, transpile\n",
    "from qiskit.tools.monitor import job_monitor\n",
    "\n",
    "# Error Detection Circuit\n",
    "qc_detect = QuantumCircuit(5, 2)\n",
    "qc_detect.initialize([1, 0], 0)\n",
    "qc_detect.cx(0, 1)\n",
    "qc_detect.cx(0, 2)\n",
    "qc_detect.barrier()\n",
    "qc_detect.x(2)  # Introduce a bit flip error on the third qubit\n",
    "qc_detect.barrier()\n",
    "qc_detect.cx(0, 3)\n",
    "qc_detect.cx(2, 3)\n",
    "qc_detect.cx(0, 4)\n",
    "qc_detect.cx(1, 4)\n",
    "qc_detect.measure(3, 0)\n",
    "qc_detect.measure(4, 1)\n",
    "\n",
    "# Transpile for the real quantum device\n",
    "transpiled_qc_detect = transpile(qc_detect, realibmlagos_backend)\n",
    "\n",
    "# Specify the number of shots\n",
    "num_shots = 1024\n",
    "\n",
    "# Submitting the job to the real quantum device\n",
    "job_detect = realibmlagos_backend.run(transpiled_qc_detect,shots=num_shots)\n",
    "job_monitor(job_detect)\n",
    "\n",
    "# Retrieve and print the result\n",
    "result_detect = job_detect.result()\n",
    "error_counts_detect = result_detect.get_counts(qc_detect)\n",
    "print(\"Error Detection Counts on Real Quantum Computer:\")\n",
    "print(error_counts_detect)\n"
   ]
  },
  {
   "cell_type": "markdown",
   "id": "e3c86bd5",
   "metadata": {},
   "source": [
    "# Error Detection Circuit With the Different Syndrome Pairs"
   ]
  },
  {
   "cell_type": "code",
   "execution_count": 42,
   "id": "8cb5dc0e",
   "metadata": {
    "scrolled": true
   },
   "outputs": [
    {
     "name": "stdout",
     "output_type": "stream",
     "text": [
      "Job Status: job has successfully run\n",
      "Error Detection Counts on Real Quantum Computer With Different Syndrome Pairs:\n",
      "{'01': 33, '10': 880, '00': 73, '11': 38}\n"
     ]
    }
   ],
   "source": [
    "# Error Detection Circuit\n",
    "qc_detect = QuantumCircuit(5, 2)\n",
    "\n",
    "# Initialize the first qubit to |1>\n",
    "qc_detect.initialize([1, 0], 0)\n",
    "\n",
    "# Entangle the first three qubits\n",
    "qc_detect.cx(0, 1)\n",
    "qc_detect.cx(0, 2)\n",
    "qc_detect.barrier()\n",
    "\n",
    "# Introduce a bit flip error on the third qubit\n",
    "qc_detect.x(2)\n",
    "qc_detect.barrier()\n",
    "\n",
    "# Set up ancilla qubits for error detection\n",
    "# First ancilla qubit for parity check between qubit 0 and qubit 1\n",
    "qc_detect.cx(0, 3)\n",
    "qc_detect.cx(1, 3)\n",
    "\n",
    "# Second ancilla qubit for parity check between qubit 1 and qubit 2\n",
    "qc_detect.cx(1, 4)\n",
    "qc_detect.cx(2, 4)\n",
    "\n",
    "# Measure the ancilla qubits\n",
    "qc_detect.measure(3, 0) # Measure first ancilla qubit\n",
    "qc_detect.measure(4, 1) # Measure second ancilla qubit\n",
    "\n",
    "# Transpile for the real quantum device\n",
    "transpiled_qc_detect = transpile(qc_detect, realibmlagos_backend)\n",
    "\n",
    "# Specify the number of shots\n",
    "num_shots = 1024\n",
    "\n",
    "# Submitting the job to the real quantum device\n",
    "job_detect = realibmlagos_backend.run(transpiled_qc_detect, shots=num_shots)\n",
    "job_monitor(job_detect)\n",
    "\n",
    "# Retrieve and print the result\n",
    "result_detect = job_detect.result()\n",
    "error_counts_detect = result_detect.get_counts(qc_detect)\n",
    "print(\"Error Detection Counts on Real Quantum Computer With Different Syndrome Pairs:\")\n",
    "print(error_counts_detect)\n"
   ]
  },
  {
   "cell_type": "markdown",
   "id": "229b1924",
   "metadata": {},
   "source": [
    "# Error Correction Circuit For the Most Frequent Syndrome '01' means Third Bit From Initial Syndrome Pairs"
   ]
  },
  {
   "cell_type": "code",
   "execution_count": 79,
   "id": "6a2ca646",
   "metadata": {
    "scrolled": true
   },
   "outputs": [
    {
     "data": {
      "text/plain": [
       "'01'"
      ]
     },
     "execution_count": 79,
     "metadata": {},
     "output_type": "execute_result"
    }
   ],
   "source": [
    "most_common_syndrome = max(error_counts_detect, key=error_counts_detect.get)\n",
    "most_common_syndrome"
   ]
  },
  {
   "cell_type": "code",
   "execution_count": null,
   "id": "64d3e11c",
   "metadata": {},
   "outputs": [],
   "source": [
    "# Analyze the detection results to decide on the correction\n",
    "most_common_syndrome = max(error_counts_detect, key=error_counts_detect.get)\n",
    "\n",
    "# Error Correction Circuit\n",
    "qc_correct = QuantumCircuit(5, 2)\n",
    "\n",
    "# Apply the correction based on the syndrome\n",
    "if most_common_syndrome == '01':\n",
    "    qc_correct.x(2)  # Apply X gate to the third qubit for syndrome '10'\n",
    "\n",
    "# Combine the detection and correction circuits\n",
    "qc_combined_correction = qc_detect.compose(qc_correct)\n",
    "\n",
    "# Transpile and run the combined correction circuit\n",
    "transpiled_qc_combined_correction = transpile(qc_combined_correction, realibmlagos_backend)\n",
    "job_combined_correction = realibmlagos_backend.run(transpiled_qc_combined_correction, shots=1024)\n",
    "job_monitor(job_combined_correction)\n",
    "result_combined_correction = job_combined_correction.result()\n",
    "error_counts_combined_correction = result_combined_correction.get_counts(qc_combined_correction)\n",
    "print(\"Error Counts after Correction on Real Quantum Computer For the Most Frequent Syndrome '10':\")\n",
    "print(error_counts_combined_correction)\n"
   ]
  },
  {
   "cell_type": "code",
   "execution_count": null,
   "id": "742c52a9",
   "metadata": {},
   "outputs": [],
   "source": [
    "# Error Counts after Correction on Real Quantum Computer For the Most Frequent Syndrome '01':\n",
    " {'00': 92, '01': 820, '11': 94, '10': 18}"
   ]
  },
  {
   "cell_type": "code",
   "execution_count": null,
   "id": "eb495164",
   "metadata": {},
   "outputs": [],
   "source": []
  },
  {
   "cell_type": "markdown",
   "id": "c1c0ccb1",
   "metadata": {},
   "source": [
    "# # Error Correction Circuit For the Most Frequent Syndrome '10' means Third Bit From Different Syndrome Pairs with different Backend 'ibm_lagos'"
   ]
  },
  {
   "cell_type": "code",
   "execution_count": 66,
   "id": "f451a8b9",
   "metadata": {
    "scrolled": false
   },
   "outputs": [
    {
     "name": "stdout",
     "output_type": "stream",
     "text": [
      "Job Status: job has successfully run\n",
      "Error Counts after Correction on Real Quantum Computer For the Most Frequent Syndrome '10':\n",
      "{'01': 29, '11': 43, '10': 837, '00': 115}\n"
     ]
    }
   ],
   "source": [
    "# Analyze the detection results to decide on the correction\n",
    "most_common_syndrome = max(error_counts_detect, key=error_counts_detect.get)\n",
    "\n",
    "# Error Correction Circuit\n",
    "qc_correct = QuantumCircuit(5, 2)\n",
    "\n",
    "# Apply the correction based on the syndrome\n",
    "if most_common_syndrome == '10':\n",
    "    qc_correct.x(2)  # Apply X gate to the third qubit for syndrome '10'\n",
    "\n",
    "# Combine the detection and correction circuits\n",
    "qc_combined_correction = qc_detect.compose(qc_correct)\n",
    "\n",
    "# Transpile and run the combined correction circuit\n",
    "transpiled_qc_combined_correction = transpile(qc_combined_correction, realibmlagos_backend)\n",
    "job_combined_correction = realibmlagos_backend.run(transpiled_qc_combined_correction, shots=1024)\n",
    "job_monitor(job_combined_correction)\n",
    "result_combined_correction = job_combined_correction.result()\n",
    "error_counts_combined_correction = result_combined_correction.get_counts(qc_combined_correction)\n",
    "print(\"Error Counts after Correction on Real Quantum Computer For the Most Frequent Syndrome '10':\")\n",
    "print(error_counts_combined_correction)\n"
   ]
  },
  {
   "cell_type": "code",
   "execution_count": 75,
   "id": "68dae310",
   "metadata": {},
   "outputs": [
    {
     "data": {
      "text/plain": [
       "'10'"
      ]
     },
     "execution_count": 75,
     "metadata": {},
     "output_type": "execute_result"
    }
   ],
   "source": [
    "most_common_syndrome = max(error_counts_detect, key=error_counts_detect.get)\n",
    "most_common_syndrome"
   ]
  },
  {
   "cell_type": "code",
   "execution_count": null,
   "id": "d5755481",
   "metadata": {},
   "outputs": [],
   "source": []
  }
 ],
 "metadata": {
  "kernelspec": {
   "display_name": "Python 3 (ipykernel)",
   "language": "python",
   "name": "python3"
  },
  "language_info": {
   "codemirror_mode": {
    "name": "ipython",
    "version": 3
   },
   "file_extension": ".py",
   "mimetype": "text/x-python",
   "name": "python",
   "nbconvert_exporter": "python",
   "pygments_lexer": "ipython3",
   "version": "3.10.9"
  }
 },
 "nbformat": 4,
 "nbformat_minor": 5
}
