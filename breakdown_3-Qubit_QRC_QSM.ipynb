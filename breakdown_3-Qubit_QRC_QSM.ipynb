{
 "cells": [
  {
   "cell_type": "code",
   "execution_count": null,
   "metadata": {
    "id": "OhWsNt1-X7nG"
   },
   "outputs": [],
   "source": [
    "pip install qiskit"
   ]
  },
  {
   "cell_type": "code",
   "execution_count": null,
   "metadata": {
    "id": "7kU5Q2r3YIJ-"
   },
   "outputs": [],
   "source": [
    "pip install qiskit-aer"
   ]
  },
  {
   "cell_type": "code",
   "execution_count": 22,
   "metadata": {
    "executionInfo": {
     "elapsed": 373,
     "status": "ok",
     "timestamp": 1700010079029,
     "user": {
      "displayName": "Mahi Khan",
      "userId": "16397612909449859340"
     },
     "user_tz": 0
    },
    "id": "Olw6vy0IYD4S"
   },
   "outputs": [],
   "source": [
    "from qiskit import QuantumCircuit,ClassicalRegister, QuantumRegister, execute, Aer, IBMQ, transpile, assemble\n",
    "from qiskit.visualization import plot_histogram\n",
    "from qiskit.providers.aer import QasmSimulator\n",
    "from qiskit.tools.monitor import job_monitor"
   ]
  },
  {
   "cell_type": "code",
   "execution_count": 23,
   "metadata": {
    "colab": {
     "base_uri": "https://localhost:8080/"
    },
    "executionInfo": {
     "elapsed": 185,
     "status": "ok",
     "timestamp": 1700010080153,
     "user": {
      "displayName": "Mahi Khan",
      "userId": "16397612909449859340"
     },
     "user_tz": 0
    },
    "id": "m1iSVmQIbiZ7",
    "outputId": "0c65e35f-6781-408b-8965-a8fca046a034"
   },
   "outputs": [
    {
     "data": {
      "text/plain": [
       "<qiskit.circuit.instructionset.InstructionSet at 0x79d05f187880>"
      ]
     },
     "execution_count": 23,
     "metadata": {},
     "output_type": "execute_result"
    }
   ],
   "source": [
    "# Create a quantum circuit with 3 qubits\n",
    "qc = QuantumCircuit(3, 3)\n",
    "\n",
    "# Prepare the initial state |0> and encode it using CNOT gates\n",
    "qc.initialize([1, 0], 0)\n",
    "qc.cx(0, 1)\n",
    "qc.cx(0, 2)\n",
    "\n",
    "# Include a barrier to prevent gate reordering for simulation purposes\n",
    "qc.barrier()\n"
   ]
  },
  {
   "cell_type": "code",
   "execution_count": 24,
   "metadata": {
    "colab": {
     "base_uri": "https://localhost:8080/"
    },
    "executionInfo": {
     "elapsed": 211,
     "status": "ok",
     "timestamp": 1700010082972,
     "user": {
      "displayName": "Mahi Khan",
      "userId": "16397612909449859340"
     },
     "user_tz": 0
    },
    "id": "AHSlMZGAeFwu",
    "outputId": "0e75f5ba-b95c-4456-c958-22bdc3e01423"
   },
   "outputs": [
    {
     "name": "stdout",
     "output_type": "stream",
     "text": [
      "     ┌─────────────────┐           ░ \n",
      "q_0: ┤ Initialize(1,0) ├──■────■───░─\n",
      "     └─────────────────┘┌─┴─┐  │   ░ \n",
      "q_1: ───────────────────┤ X ├──┼───░─\n",
      "                        └───┘┌─┴─┐ ░ \n",
      "q_2: ────────────────────────┤ X ├─░─\n",
      "                             └───┘ ░ \n",
      "c: 3/════════════════════════════════\n",
      "                                     \n"
     ]
    }
   ],
   "source": [
    "print(qc)"
   ]
  },
  {
   "cell_type": "code",
   "execution_count": 25,
   "metadata": {
    "colab": {
     "base_uri": "https://localhost:8080/"
    },
    "executionInfo": {
     "elapsed": 183,
     "status": "ok",
     "timestamp": 1700010086146,
     "user": {
      "displayName": "Mahi Khan",
      "userId": "16397612909449859340"
     },
     "user_tz": 0
    },
    "id": "qy5v_9fGbrsS",
    "outputId": "c1a478c7-49ae-4d92-c766-a222fb77ebe5"
   },
   "outputs": [
    {
     "data": {
      "text/plain": [
       "<qiskit.circuit.instructionset.InstructionSet at 0x79d05f187d30>"
      ]
     },
     "execution_count": 25,
     "metadata": {},
     "output_type": "execute_result"
    }
   ],
   "source": [
    "# Introduce a bit-flip error on the second qubit (qubit 1)\n",
    "qc.x(1)\n",
    "\n",
    "# Include another barrier\n",
    "qc.barrier()\n"
   ]
  },
  {
   "cell_type": "code",
   "execution_count": 26,
   "metadata": {
    "colab": {
     "base_uri": "https://localhost:8080/"
    },
    "executionInfo": {
     "elapsed": 198,
     "status": "ok",
     "timestamp": 1700010088338,
     "user": {
      "displayName": "Mahi Khan",
      "userId": "16397612909449859340"
     },
     "user_tz": 0
    },
    "id": "pBOLjOsqeMyM",
    "outputId": "6641ee16-77ad-42ce-ab0b-3316c0fe0fd8"
   },
   "outputs": [
    {
     "name": "stdout",
     "output_type": "stream",
     "text": [
      "     ┌─────────────────┐           ░       ░ \n",
      "q_0: ┤ Initialize(1,0) ├──■────■───░───────░─\n",
      "     └─────────────────┘┌─┴─┐  │   ░ ┌───┐ ░ \n",
      "q_1: ───────────────────┤ X ├──┼───░─┤ X ├─░─\n",
      "                        └───┘┌─┴─┐ ░ └───┘ ░ \n",
      "q_2: ────────────────────────┤ X ├─░───────░─\n",
      "                             └───┘ ░       ░ \n",
      "c: 3/════════════════════════════════════════\n",
      "                                             \n"
     ]
    }
   ],
   "source": [
    "print(qc)"
   ]
  },
  {
   "cell_type": "code",
   "execution_count": 27,
   "metadata": {
    "colab": {
     "base_uri": "https://localhost:8080/"
    },
    "executionInfo": {
     "elapsed": 211,
     "status": "ok",
     "timestamp": 1700010097911,
     "user": {
      "displayName": "Mahi Khan",
      "userId": "16397612909449859340"
     },
     "user_tz": 0
    },
    "id": "M5XF1RcYedIi",
    "outputId": "fff9d4fd-367a-4258-9f2e-b88f82704d4c"
   },
   "outputs": [
    {
     "data": {
      "text/plain": [
       "<qiskit.circuit.instructionset.InstructionSet at 0x79d05f187a60>"
      ]
     },
     "execution_count": 27,
     "metadata": {},
     "output_type": "execute_result"
    }
   ],
   "source": [
    "# Create ancilla qubits for error detection\n",
    "# In practice, these would be separate qubits, but we can use the same qubits here\n",
    "# and look at the output before the error correction is applied.\n",
    "qc.cx(0, 1)\n",
    "qc.cx(0, 2)\n",
    "qc.measure([1, 2], [0, 1])  # Measure the second and third qubits into the first two classical bits"
   ]
  },
  {
   "cell_type": "code",
   "execution_count": 28,
   "metadata": {
    "colab": {
     "base_uri": "https://localhost:8080/"
    },
    "executionInfo": {
     "elapsed": 196,
     "status": "ok",
     "timestamp": 1700010101983,
     "user": {
      "displayName": "Mahi Khan",
      "userId": "16397612909449859340"
     },
     "user_tz": 0
    },
    "id": "liYZq9XYefA7",
    "outputId": "a9245700-0772-4fcc-8b91-965114c35394"
   },
   "outputs": [
    {
     "name": "stdout",
     "output_type": "stream",
     "text": [
      "     ┌─────────────────┐           ░       ░                 \n",
      "q_0: ┤ Initialize(1,0) ├──■────■───░───────░───■────■────────\n",
      "     └─────────────────┘┌─┴─┐  │   ░ ┌───┐ ░ ┌─┴─┐  │  ┌─┐   \n",
      "q_1: ───────────────────┤ X ├──┼───░─┤ X ├─░─┤ X ├──┼──┤M├───\n",
      "                        └───┘┌─┴─┐ ░ └───┘ ░ └───┘┌─┴─┐└╥┘┌─┐\n",
      "q_2: ────────────────────────┤ X ├─░───────░──────┤ X ├─╫─┤M├\n",
      "                             └───┘ ░       ░      └───┘ ║ └╥┘\n",
      "c: 3/═══════════════════════════════════════════════════╩══╩═\n",
      "                                                        0  1 \n"
     ]
    }
   ],
   "source": [
    "print(qc)"
   ]
  },
  {
   "cell_type": "code",
   "execution_count": 29,
   "metadata": {
    "colab": {
     "base_uri": "https://localhost:8080/",
     "height": 490
    },
    "executionInfo": {
     "elapsed": 230,
     "status": "ok",
     "timestamp": 1700010106916,
     "user": {
      "displayName": "Mahi Khan",
      "userId": "16397612909449859340"
     },
     "user_tz": 0
    },
    "id": "aouBHhKdbwoz",
    "outputId": "9c943999-06ae-49dc-f1d4-baa406c05341"
   },
   "outputs": [
    {
     "name": "stdout",
     "output_type": "stream",
     "text": [
      "{'001': 1024}\n"
     ]
    },
    {
     "data": {
      "image/png": "[encoded data removed]",
      "text/plain": [
       "<Figure size 700x500 with 1 Axes>"
      ]
     },
     "execution_count": 29,
     "metadata": {},
     "output_type": "execute_result"
    }
   ],
   "source": [
    "# Execute this on a simulator\n",
    "simulator = Aer.get_backend('qasm_simulator')\n",
    "result = execute(qc, backend=simulator, shots=1024).result()\n",
    "counts = result.get_counts(qc)\n",
    "print(counts)\n",
    "plot_histogram(counts)\n"
   ]
  },
  {
   "cell_type": "code",
   "execution_count": 30,
   "metadata": {
    "colab": {
     "base_uri": "https://localhost:8080/"
    },
    "executionInfo": {
     "elapsed": 194,
     "status": "ok",
     "timestamp": 1700010113388,
     "user": {
      "displayName": "Mahi Khan",
      "userId": "16397612909449859340"
     },
     "user_tz": 0
    },
    "id": "ThUY8xKub_Rr",
    "outputId": "2b7ca5f7-18c8-4efa-93a6-a152a60e8c11"
   },
   "outputs": [
    {
     "data": {
      "text/plain": [
       "<qiskit.circuit.instructionset.InstructionSet at 0x79d062c21bd0>"
      ]
     },
     "execution_count": 30,
     "metadata": {},
     "output_type": "execute_result"
    }
   ],
   "source": [
    "# Apply correction based on the syndrome\n",
    "# For simplicity, let's assume we know the second qubit had the error\n",
    "# In a real scenario, we would analyze the syndrome to determine this\n",
    "qc.x(1)\n",
    "\n",
    "# Measure all qubits to check the result after error correction\n",
    "qc.measure(range(3), range(3))\n"
   ]
  },
  {
   "cell_type": "code",
   "execution_count": 31,
   "metadata": {
    "colab": {
     "base_uri": "https://localhost:8080/",
     "height": 490
    },
    "executionInfo": {
     "elapsed": 214,
     "status": "ok",
     "timestamp": 1700010117598,
     "user": {
      "displayName": "Mahi Khan",
      "userId": "16397612909449859340"
     },
     "user_tz": 0
    },
    "id": "8lryC3EPcE36",
    "outputId": "7b7c4748-ec36-4dd6-ca2b-f2f826c44362"
   },
   "outputs": [
    {
     "name": "stdout",
     "output_type": "stream",
     "text": [
      "{'000': 1024}\n"
     ]
    },
    {
     "data": {
      "image/png": "[encoded data removed]",
      "text/plain": [
       "<Figure size 700x500 with 1 Axes>"
      ]
     },
     "execution_count": 31,
     "metadata": {},
     "output_type": "execute_result"
    }
   ],
   "source": [
    "# Execute the circuit on the qasm simulator\n",
    "result = execute(qc, backend=simulator, shots=1024).result()\n",
    "counts = result.get_counts(qc)\n",
    "print(counts)\n",
    "plot_histogram(counts)\n"
   ]
  }
 ],
 "metadata": {
  "colab": {
   "authorship_tag": "ABX9TyNc12uAgjPg6Yt6BD3Q1PYd",
   "provenance": []
  },
  "kernelspec": {
   "display_name": "Python 3 (ipykernel)",
   "language": "python",
   "name": "python3"
  },
  "language_info": {
   "codemirror_mode": {
    "name": "ipython",
    "version": 3
   },
   "file_extension": ".py",
   "mimetype": "text/x-python",
   "name": "python",
   "nbconvert_exporter": "python",
   "pygments_lexer": "ipython3",
   "version": "3.10.9"
  }
 },
 "nbformat": 4,
 "nbformat_minor": 1
}
